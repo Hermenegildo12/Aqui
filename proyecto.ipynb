{
 "cells": [
  {
   "cell_type": "code",
   "execution_count": 66,
   "metadata": {},
   "outputs": [
    {
     "name": "stdout",
     "output_type": "stream",
     "text": [
      "Using matplotlib backend: MacOSX\n"
     ]
    }
   ],
   "source": [
    "from pymongo import MongoClient\n",
    "import pandas as pd\n",
    "import numpy as np\n",
    "\n",
    "%matplotlib"
   ]
  },
  {
   "cell_type": "code",
   "execution_count": 67,
   "metadata": {},
   "outputs": [],
   "source": [
    "client=MongoClient(\"mongodb://localhost:27017/\")\n",
    "db=client.companies"
   ]
  },
  {
   "cell_type": "code",
   "execution_count": 68,
   "metadata": {},
   "outputs": [],
   "source": [
    "#Query para pedir toda la base de datos\n",
    "\n",
    "companies=db.companies.find()\n"
   ]
  },
  {
   "cell_type": "code",
   "execution_count": 69,
   "metadata": {},
   "outputs": [],
   "source": [
    "datos= pd.DataFrame(companies)\n"
   ]
  },
  {
   "cell_type": "code",
   "execution_count": 70,
   "metadata": {},
   "outputs": [
    {
     "data": {
      "text/html": [
       "<div>\n",
       "<style scoped>\n",
       "    .dataframe tbody tr th:only-of-type {\n",
       "        vertical-align: middle;\n",
       "    }\n",
       "\n",
       "    .dataframe tbody tr th {\n",
       "        vertical-align: top;\n",
       "    }\n",
       "\n",
       "    .dataframe thead th {\n",
       "        text-align: right;\n",
       "    }\n",
       "</style>\n",
       "<table border=\"1\" class=\"dataframe\">\n",
       "  <thead>\n",
       "    <tr style=\"text-align: right;\">\n",
       "      <th></th>\n",
       "      <th>_id</th>\n",
       "      <th>name</th>\n",
       "      <th>permalink</th>\n",
       "      <th>crunchbase_url</th>\n",
       "      <th>homepage_url</th>\n",
       "      <th>blog_url</th>\n",
       "      <th>blog_feed_url</th>\n",
       "      <th>twitter_username</th>\n",
       "      <th>category_code</th>\n",
       "      <th>number_of_employees</th>\n",
       "      <th>...</th>\n",
       "      <th>video_embeds</th>\n",
       "      <th>screenshots</th>\n",
       "      <th>external_links</th>\n",
       "      <th>partners</th>\n",
       "      <th>founded_month</th>\n",
       "      <th>founded_day</th>\n",
       "      <th>deadpooled_month</th>\n",
       "      <th>deadpooled_day</th>\n",
       "      <th>deadpooled_url</th>\n",
       "      <th>ipo</th>\n",
       "    </tr>\n",
       "  </thead>\n",
       "  <tbody>\n",
       "    <tr>\n",
       "      <th>0</th>\n",
       "      <td>52cdef7c4bab8bd675297d8b</td>\n",
       "      <td>AdventNet</td>\n",
       "      <td>abc3</td>\n",
       "      <td>http://www.crunchbase.com/company/adventnet</td>\n",
       "      <td>http://adventnet.com</td>\n",
       "      <td></td>\n",
       "      <td></td>\n",
       "      <td>manageengine</td>\n",
       "      <td>enterprise</td>\n",
       "      <td>600.0</td>\n",
       "      <td>...</td>\n",
       "      <td>[]</td>\n",
       "      <td>[{'available_sizes': [[[150, 94], 'assets/imag...</td>\n",
       "      <td>[]</td>\n",
       "      <td>[]</td>\n",
       "      <td>NaN</td>\n",
       "      <td>NaN</td>\n",
       "      <td>NaN</td>\n",
       "      <td>NaN</td>\n",
       "      <td>NaN</td>\n",
       "      <td>NaN</td>\n",
       "    </tr>\n",
       "    <tr>\n",
       "      <th>1</th>\n",
       "      <td>52cdef7c4bab8bd675297d8f</td>\n",
       "      <td>Omnidrive</td>\n",
       "      <td>omnidrive</td>\n",
       "      <td>http://www.crunchbase.com/company/omnidrive</td>\n",
       "      <td>http://www.omnidrive.com</td>\n",
       "      <td>http://www.omnidrive.com/blog</td>\n",
       "      <td>http://feeds.feedburner.com/omnidrive</td>\n",
       "      <td>Nomadesk</td>\n",
       "      <td>network_hosting</td>\n",
       "      <td>NaN</td>\n",
       "      <td>...</td>\n",
       "      <td>[]</td>\n",
       "      <td>[]</td>\n",
       "      <td>[]</td>\n",
       "      <td>[]</td>\n",
       "      <td>11.0</td>\n",
       "      <td>1.0</td>\n",
       "      <td>9.0</td>\n",
       "      <td>15.0</td>\n",
       "      <td></td>\n",
       "      <td>None</td>\n",
       "    </tr>\n",
       "    <tr>\n",
       "      <th>2</th>\n",
       "      <td>52cdef7c4bab8bd675297d92</td>\n",
       "      <td>Flektor</td>\n",
       "      <td>flektor</td>\n",
       "      <td>http://www.crunchbase.com/company/flektor</td>\n",
       "      <td>http://www.flektor.com</td>\n",
       "      <td>http://www.flektor-blog.com</td>\n",
       "      <td>http://www.flektor-blog.com/video_editing_soft...</td>\n",
       "      <td>None</td>\n",
       "      <td>games_video</td>\n",
       "      <td>NaN</td>\n",
       "      <td>...</td>\n",
       "      <td>[]</td>\n",
       "      <td>[]</td>\n",
       "      <td>[]</td>\n",
       "      <td>[]</td>\n",
       "      <td>NaN</td>\n",
       "      <td>NaN</td>\n",
       "      <td>NaN</td>\n",
       "      <td>NaN</td>\n",
       "      <td>None</td>\n",
       "      <td>None</td>\n",
       "    </tr>\n",
       "    <tr>\n",
       "      <th>3</th>\n",
       "      <td>52cdef7c4bab8bd675297d90</td>\n",
       "      <td>Postini</td>\n",
       "      <td>postini</td>\n",
       "      <td>http://www.crunchbase.com/company/postini</td>\n",
       "      <td>http://postini.com</td>\n",
       "      <td></td>\n",
       "      <td></td>\n",
       "      <td>None</td>\n",
       "      <td>web</td>\n",
       "      <td>NaN</td>\n",
       "      <td>...</td>\n",
       "      <td>[]</td>\n",
       "      <td>[]</td>\n",
       "      <td>[]</td>\n",
       "      <td>[]</td>\n",
       "      <td>6.0</td>\n",
       "      <td>2.0</td>\n",
       "      <td>NaN</td>\n",
       "      <td>NaN</td>\n",
       "      <td>None</td>\n",
       "      <td>None</td>\n",
       "    </tr>\n",
       "    <tr>\n",
       "      <th>4</th>\n",
       "      <td>52cdef7c4bab8bd675297d91</td>\n",
       "      <td>Geni</td>\n",
       "      <td>geni</td>\n",
       "      <td>http://www.crunchbase.com/company/geni</td>\n",
       "      <td>http://www.geni.com</td>\n",
       "      <td>http://blog.geni.com</td>\n",
       "      <td>http://blog.geni.com/index.rdf</td>\n",
       "      <td>geni</td>\n",
       "      <td>web</td>\n",
       "      <td>18.0</td>\n",
       "      <td>...</td>\n",
       "      <td>[{'embed_code': '&lt;object width=\"425\" height=\"3...</td>\n",
       "      <td>[]</td>\n",
       "      <td>[]</td>\n",
       "      <td>[]</td>\n",
       "      <td>6.0</td>\n",
       "      <td>1.0</td>\n",
       "      <td>NaN</td>\n",
       "      <td>NaN</td>\n",
       "      <td>None</td>\n",
       "      <td>None</td>\n",
       "    </tr>\n",
       "  </tbody>\n",
       "</table>\n",
       "<p>5 rows × 42 columns</p>\n",
       "</div>"
      ],
      "text/plain": [
       "                        _id       name  permalink  \\\n",
       "0  52cdef7c4bab8bd675297d8b  AdventNet       abc3   \n",
       "1  52cdef7c4bab8bd675297d8f  Omnidrive  omnidrive   \n",
       "2  52cdef7c4bab8bd675297d92    Flektor    flektor   \n",
       "3  52cdef7c4bab8bd675297d90    Postini    postini   \n",
       "4  52cdef7c4bab8bd675297d91       Geni       geni   \n",
       "\n",
       "                                crunchbase_url              homepage_url  \\\n",
       "0  http://www.crunchbase.com/company/adventnet      http://adventnet.com   \n",
       "1  http://www.crunchbase.com/company/omnidrive  http://www.omnidrive.com   \n",
       "2    http://www.crunchbase.com/company/flektor    http://www.flektor.com   \n",
       "3    http://www.crunchbase.com/company/postini        http://postini.com   \n",
       "4       http://www.crunchbase.com/company/geni       http://www.geni.com   \n",
       "\n",
       "                        blog_url  \\\n",
       "0                                  \n",
       "1  http://www.omnidrive.com/blog   \n",
       "2    http://www.flektor-blog.com   \n",
       "3                                  \n",
       "4           http://blog.geni.com   \n",
       "\n",
       "                                       blog_feed_url twitter_username  \\\n",
       "0                                                        manageengine   \n",
       "1              http://feeds.feedburner.com/omnidrive         Nomadesk   \n",
       "2  http://www.flektor-blog.com/video_editing_soft...             None   \n",
       "3                                                                None   \n",
       "4                     http://blog.geni.com/index.rdf             geni   \n",
       "\n",
       "     category_code  number_of_employees  ...  \\\n",
       "0       enterprise                600.0  ...   \n",
       "1  network_hosting                  NaN  ...   \n",
       "2      games_video                  NaN  ...   \n",
       "3              web                  NaN  ...   \n",
       "4              web                 18.0  ...   \n",
       "\n",
       "                                        video_embeds  \\\n",
       "0                                                 []   \n",
       "1                                                 []   \n",
       "2                                                 []   \n",
       "3                                                 []   \n",
       "4  [{'embed_code': '<object width=\"425\" height=\"3...   \n",
       "\n",
       "                                         screenshots external_links partners  \\\n",
       "0  [{'available_sizes': [[[150, 94], 'assets/imag...             []       []   \n",
       "1                                                 []             []       []   \n",
       "2                                                 []             []       []   \n",
       "3                                                 []             []       []   \n",
       "4                                                 []             []       []   \n",
       "\n",
       "  founded_month founded_day deadpooled_month deadpooled_day deadpooled_url  \\\n",
       "0           NaN         NaN              NaN            NaN            NaN   \n",
       "1          11.0         1.0              9.0           15.0                  \n",
       "2           NaN         NaN              NaN            NaN           None   \n",
       "3           6.0         2.0              NaN            NaN           None   \n",
       "4           6.0         1.0              NaN            NaN           None   \n",
       "\n",
       "    ipo  \n",
       "0   NaN  \n",
       "1  None  \n",
       "2  None  \n",
       "3  None  \n",
       "4  None  \n",
       "\n",
       "[5 rows x 42 columns]"
      ]
     },
     "execution_count": 70,
     "metadata": {},
     "output_type": "execute_result"
    }
   ],
   "source": [
    "datos.head()"
   ]
  },
  {
   "cell_type": "code",
   "execution_count": 71,
   "metadata": {},
   "outputs": [
    {
     "data": {
      "text/plain": [
       "web                 3787\n",
       "software            2736\n",
       "games_video         1083\n",
       "mobile              1018\n",
       "other                986\n",
       "advertising          928\n",
       "enterprise           742\n",
       "ecommerce            688\n",
       "consulting           637\n",
       "network_hosting      626\n",
       "public_relations     533\n",
       "search               394\n",
       "biotech              373\n",
       "hardware             368\n",
       "cleantech            305\n",
       "semiconductor        167\n",
       "security             156\n",
       "analytics             66\n",
       "finance               49\n",
       "social                49\n",
       "news                  48\n",
       "education             36\n",
       "music                 33\n",
       "messaging             30\n",
       "medical               25\n",
       "legal                 25\n",
       "travel                25\n",
       "health                23\n",
       "photo_video           23\n",
       "manufacturing         19\n",
       "sports                13\n",
       "fashion               10\n",
       "real_estate           10\n",
       "automotive             9\n",
       "hospitality            8\n",
       "transportation         7\n",
       "nanotech               5\n",
       "design                 4\n",
       "nonprofit              4\n",
       "local                  1\n",
       "government             1\n",
       "Name: category_code, dtype: int64"
      ]
     },
     "execution_count": 71,
     "metadata": {},
     "output_type": "execute_result"
    }
   ],
   "source": [
    "#viendo tipo de datos.\n",
    "datos[\"category_code\"].value_counts()"
   ]
  },
  {
   "cell_type": "code",
   "execution_count": 72,
   "metadata": {},
   "outputs": [],
   "source": [
    "query = db.companies.find({\"$and\":[\n",
    "                               {\"founded_year\": {\"$gte\": 1990}},\n",
    "                               {\"number_of_employees\": {\"$gte\": 7}},\n",
    "                                {\"total_money_raised\":{\"$regex\":\"M\"}},\n",
    "                               {\"$or\": [\n",
    "                                   {\"category_code\": \"design\" } ,\n",
    "                                   {\"category_code\": \"biotech\" } ,\n",
    "                                   {\"category_code\":\"games_video\"},\n",
    "                                   {\"category_code\":\"web\"},\n",
    "                                   {\"category_code\": \"software\" } ,\n",
    "                                   {\"category_code\": \"education\" } ,\n",
    "                                   ]}\n",
    "                               ],\n",
    "                               },\n",
    "                                {\"_id\": 0, \"crunchbase_url\": 0, \"products\": 0, \"founded_month\": 0, \"founded_day\": 0,\n",
    "                                \"acquisition\": 0, \"acquisitions\": 0, \"video_embeds\": 0,\n",
    "                                \"screenshots\": 0, \"external_links\": 0, \"partners\": 0,\n",
    "                                \"image\": 0, \"blog_feed_url\": 0, \"blog_url\":0, \"deadpooled_day\":0,\n",
    "                                \"deadpooled_year\":0, \"deadpooled_month\":0, \"deadpooled_url\":0, \"ipo\":0,\n",
    "                                \"permalink\":0, \"homepage_url\":0, \"tag_list\":0, \"email_addres\": 0, \"providerships\": 0,\n",
    "                                \"milestones\": 0, \"twitter_username\": 0, \"updated_at\": 0, \"email_address\":0, \"investments\":0,\n",
    "                               }\n",
    "                                    )"
   ]
  },
  {
   "cell_type": "code",
   "execution_count": 73,
   "metadata": {},
   "outputs": [],
   "source": [
    "datos= pd.DataFrame(query)"
   ]
  },
  {
   "cell_type": "code",
   "execution_count": 74,
   "metadata": {},
   "outputs": [
    {
     "data": {
      "text/html": [
       "<div>\n",
       "<style scoped>\n",
       "    .dataframe tbody tr th:only-of-type {\n",
       "        vertical-align: middle;\n",
       "    }\n",
       "\n",
       "    .dataframe tbody tr th {\n",
       "        vertical-align: top;\n",
       "    }\n",
       "\n",
       "    .dataframe thead th {\n",
       "        text-align: right;\n",
       "    }\n",
       "</style>\n",
       "<table border=\"1\" class=\"dataframe\">\n",
       "  <thead>\n",
       "    <tr style=\"text-align: right;\">\n",
       "      <th></th>\n",
       "      <th>name</th>\n",
       "      <th>category_code</th>\n",
       "      <th>number_of_employees</th>\n",
       "      <th>founded_year</th>\n",
       "      <th>alias_list</th>\n",
       "      <th>phone_number</th>\n",
       "      <th>description</th>\n",
       "      <th>created_at</th>\n",
       "      <th>overview</th>\n",
       "      <th>relationships</th>\n",
       "      <th>competitions</th>\n",
       "      <th>total_money_raised</th>\n",
       "      <th>funding_rounds</th>\n",
       "      <th>offices</th>\n",
       "    </tr>\n",
       "  </thead>\n",
       "  <tbody>\n",
       "    <tr>\n",
       "      <th>0</th>\n",
       "      <td>Geni</td>\n",
       "      <td>web</td>\n",
       "      <td>18</td>\n",
       "      <td>2006</td>\n",
       "      <td></td>\n",
       "      <td></td>\n",
       "      <td>Geneology social network site</td>\n",
       "      <td>Thu May 31 19:52:34 UTC 2007</td>\n",
       "      <td>&lt;p&gt;Geni is an online community of casual and e...</td>\n",
       "      <td>[{'is_past': False, 'title': 'CEO', 'person': ...</td>\n",
       "      <td>[{'competitor': {'name': 'Ancestry', 'permalin...</td>\n",
       "      <td>$16.5M</td>\n",
       "      <td>[{'id': 6, 'round_code': 'a', 'source_url': ''...</td>\n",
       "      <td>[{'description': 'Headquarters', 'address1': '...</td>\n",
       "    </tr>\n",
       "    <tr>\n",
       "      <th>1</th>\n",
       "      <td>Wetpaint</td>\n",
       "      <td>web</td>\n",
       "      <td>47</td>\n",
       "      <td>2005</td>\n",
       "      <td></td>\n",
       "      <td>206.859.6300</td>\n",
       "      <td>Technology Platform Company</td>\n",
       "      <td>2007-05-25 06:51:27</td>\n",
       "      <td>&lt;p&gt;Wetpaint is a technology platform company t...</td>\n",
       "      <td>[{'is_past': False, 'title': 'Co-Founder and V...</td>\n",
       "      <td>[{'competitor': {'name': 'Wikia', 'permalink':...</td>\n",
       "      <td>$39.8M</td>\n",
       "      <td>[{'id': 888, 'round_code': 'a', 'source_url': ...</td>\n",
       "      <td>[{'description': '', 'address1': '710 - 2nd Av...</td>\n",
       "    </tr>\n",
       "    <tr>\n",
       "      <th>2</th>\n",
       "      <td>Plaxo</td>\n",
       "      <td>web</td>\n",
       "      <td>50</td>\n",
       "      <td>2002</td>\n",
       "      <td></td>\n",
       "      <td>650-254-5400</td>\n",
       "      <td>Contact Management</td>\n",
       "      <td>Sat Jun 09 14:18:54 UTC 2007</td>\n",
       "      <td>&lt;p&gt;Plaxo helps keep people connected by solvin...</td>\n",
       "      <td>[{'is_past': False, 'title': 'President &amp; CEO'...</td>\n",
       "      <td>[{'competitor': {'name': 'Xobni', 'permalink':...</td>\n",
       "      <td>$28.3M</td>\n",
       "      <td>[{'id': 20, 'round_code': 'a', 'source_url': '...</td>\n",
       "      <td>[{'description': 'HQ', 'address1': '1050 Enter...</td>\n",
       "    </tr>\n",
       "    <tr>\n",
       "      <th>3</th>\n",
       "      <td>Mahalo</td>\n",
       "      <td>web</td>\n",
       "      <td>40</td>\n",
       "      <td>2007</td>\n",
       "      <td></td>\n",
       "      <td></td>\n",
       "      <td>Life long learning content</td>\n",
       "      <td>Thu Jun 14 03:42:20 UTC 2007</td>\n",
       "      <td>&lt;p&gt;Mahalo is a human powered search engine fou...</td>\n",
       "      <td>[{'is_past': False, 'title': 'Founder, CEO', '...</td>\n",
       "      <td>[{'competitor': {'name': 'Topicle', 'permalink...</td>\n",
       "      <td>$21M</td>\n",
       "      <td>[{'id': 323, 'round_code': 'a', 'source_url': ...</td>\n",
       "      <td>[{'description': '', 'address1': '3525 Eastham...</td>\n",
       "    </tr>\n",
       "    <tr>\n",
       "      <th>4</th>\n",
       "      <td>Kyte</td>\n",
       "      <td>games_video</td>\n",
       "      <td>40</td>\n",
       "      <td>2006</td>\n",
       "      <td></td>\n",
       "      <td></td>\n",
       "      <td>Online &amp; Mobile Video Platform</td>\n",
       "      <td>Thu Jun 14 18:26:11 UTC 2007</td>\n",
       "      <td>&lt;p&gt;Kyte is the online and mobile video platfor...</td>\n",
       "      <td>[{'is_past': False, 'title': 'CTO and co-found...</td>\n",
       "      <td>[{'competitor': {'name': 'Ustream', 'permalink...</td>\n",
       "      <td>$23.4M</td>\n",
       "      <td>[{'id': 32, 'round_code': 'a', 'source_url': '...</td>\n",
       "      <td>[{'description': None, 'address1': '442 Post S...</td>\n",
       "    </tr>\n",
       "  </tbody>\n",
       "</table>\n",
       "</div>"
      ],
      "text/plain": [
       "       name category_code  number_of_employees  founded_year alias_list  \\\n",
       "0      Geni           web                   18          2006              \n",
       "1  Wetpaint           web                   47          2005              \n",
       "2     Plaxo           web                   50          2002              \n",
       "3    Mahalo           web                   40          2007              \n",
       "4      Kyte   games_video                   40          2006              \n",
       "\n",
       "   phone_number                     description                    created_at  \\\n",
       "0                 Geneology social network site  Thu May 31 19:52:34 UTC 2007   \n",
       "1  206.859.6300     Technology Platform Company           2007-05-25 06:51:27   \n",
       "2  650-254-5400              Contact Management  Sat Jun 09 14:18:54 UTC 2007   \n",
       "3                    Life long learning content  Thu Jun 14 03:42:20 UTC 2007   \n",
       "4                Online & Mobile Video Platform  Thu Jun 14 18:26:11 UTC 2007   \n",
       "\n",
       "                                            overview  \\\n",
       "0  <p>Geni is an online community of casual and e...   \n",
       "1  <p>Wetpaint is a technology platform company t...   \n",
       "2  <p>Plaxo helps keep people connected by solvin...   \n",
       "3  <p>Mahalo is a human powered search engine fou...   \n",
       "4  <p>Kyte is the online and mobile video platfor...   \n",
       "\n",
       "                                       relationships  \\\n",
       "0  [{'is_past': False, 'title': 'CEO', 'person': ...   \n",
       "1  [{'is_past': False, 'title': 'Co-Founder and V...   \n",
       "2  [{'is_past': False, 'title': 'President & CEO'...   \n",
       "3  [{'is_past': False, 'title': 'Founder, CEO', '...   \n",
       "4  [{'is_past': False, 'title': 'CTO and co-found...   \n",
       "\n",
       "                                        competitions total_money_raised  \\\n",
       "0  [{'competitor': {'name': 'Ancestry', 'permalin...             $16.5M   \n",
       "1  [{'competitor': {'name': 'Wikia', 'permalink':...             $39.8M   \n",
       "2  [{'competitor': {'name': 'Xobni', 'permalink':...             $28.3M   \n",
       "3  [{'competitor': {'name': 'Topicle', 'permalink...               $21M   \n",
       "4  [{'competitor': {'name': 'Ustream', 'permalink...             $23.4M   \n",
       "\n",
       "                                      funding_rounds  \\\n",
       "0  [{'id': 6, 'round_code': 'a', 'source_url': ''...   \n",
       "1  [{'id': 888, 'round_code': 'a', 'source_url': ...   \n",
       "2  [{'id': 20, 'round_code': 'a', 'source_url': '...   \n",
       "3  [{'id': 323, 'round_code': 'a', 'source_url': ...   \n",
       "4  [{'id': 32, 'round_code': 'a', 'source_url': '...   \n",
       "\n",
       "                                             offices  \n",
       "0  [{'description': 'Headquarters', 'address1': '...  \n",
       "1  [{'description': '', 'address1': '710 - 2nd Av...  \n",
       "2  [{'description': 'HQ', 'address1': '1050 Enter...  \n",
       "3  [{'description': '', 'address1': '3525 Eastham...  \n",
       "4  [{'description': None, 'address1': '442 Post S...  "
      ]
     },
     "execution_count": 74,
     "metadata": {},
     "output_type": "execute_result"
    }
   ],
   "source": [
    "datos.head()"
   ]
  },
  {
   "cell_type": "code",
   "execution_count": 75,
   "metadata": {},
   "outputs": [
    {
     "data": {
      "text/plain": [
       "(629, 14)"
      ]
     },
     "execution_count": 75,
     "metadata": {},
     "output_type": "execute_result"
    }
   ],
   "source": [
    "datos.shape"
   ]
  },
  {
   "cell_type": "code",
   "execution_count": 76,
   "metadata": {},
   "outputs": [
    {
     "data": {
      "text/plain": [
       "name                     0\n",
       "category_code            0\n",
       "number_of_employees      0\n",
       "founded_year             0\n",
       "alias_list             148\n",
       "phone_number             2\n",
       "description             35\n",
       "created_at               0\n",
       "overview                 0\n",
       "relationships            0\n",
       "competitions             0\n",
       "total_money_raised       0\n",
       "funding_rounds           0\n",
       "offices                  0\n",
       "dtype: int64"
      ]
     },
     "execution_count": 76,
     "metadata": {},
     "output_type": "execute_result"
    }
   ],
   "source": [
    "datos.isnull().sum()"
   ]
  },
  {
   "cell_type": "code",
   "execution_count": 77,
   "metadata": {},
   "outputs": [],
   "source": [
    "datos.drop(columns=[\"alias_list\",\"created_at\"],inplace=True)"
   ]
  },
  {
   "cell_type": "code",
   "execution_count": 78,
   "metadata": {},
   "outputs": [],
   "source": [
    "datos[\"description\"]=datos[\"description\"].fillna(0)"
   ]
  },
  {
   "cell_type": "code",
   "execution_count": 79,
   "metadata": {},
   "outputs": [],
   "source": [
    "datos=datos.replace(np.nan,0)"
   ]
  },
  {
   "cell_type": "code",
   "execution_count": 80,
   "metadata": {},
   "outputs": [
    {
     "data": {
      "text/plain": [
       "name                   0\n",
       "category_code          0\n",
       "number_of_employees    0\n",
       "founded_year           0\n",
       "phone_number           0\n",
       "description            0\n",
       "overview               0\n",
       "relationships          0\n",
       "competitions           0\n",
       "total_money_raised     0\n",
       "funding_rounds         0\n",
       "offices                0\n",
       "dtype: int64"
      ]
     },
     "execution_count": 80,
     "metadata": {},
     "output_type": "execute_result"
    }
   ],
   "source": [
    "datos.isnull().sum()"
   ]
  },
  {
   "cell_type": "code",
   "execution_count": 81,
   "metadata": {},
   "outputs": [
    {
     "data": {
      "text/plain": [
       "(629, 12)"
      ]
     },
     "execution_count": 81,
     "metadata": {},
     "output_type": "execute_result"
    }
   ],
   "source": [
    "datos.shape"
   ]
  },
  {
   "cell_type": "code",
   "execution_count": 89,
   "metadata": {},
   "outputs": [],
   "source": [
    "datos.dropna(how=\"all\",subset={\"offices\"},inplace=True)"
   ]
  },
  {
   "cell_type": "code",
   "execution_count": 82,
   "metadata": {},
   "outputs": [
    {
     "data": {
      "text/plain": [
       "[]                                                                                                                                                                                                                                                                                                                                                                                                                                                                                                                                                                                                                                                                                                                                                                                         6\n",
       "[{'description': 'Lyft HQ', 'address1': '', 'address2': '', 'zip_code': '94104', 'city': 'San Francisco', 'state_code': 'CA', 'country_code': 'USA', 'latitude': 37.7899027, 'longitude': -122.4007846}]                                                                                                                                                                                                                                                                                                                                                                                                                                                                                                                                                                                   2\n",
       "[{'description': 'Tweegee Develpoment', 'address1': 'B.S.R 1', 'address2': 'Ben Gurion 2', 'zip_code': '', 'city': 'Ramat Gan', 'state_code': None, 'country_code': 'ISR', 'latitude': 32.037363, 'longitude': 34.8003705}, {'description': 'Tipeez Turkey', 'address1': '', 'address2': '', 'zip_code': '', 'city': 'Istanbul', 'state_code': None, 'country_code': 'TUR', 'latitude': None, 'longitude': None}, {'description': 'Tvidi.ru', 'address1': '', 'address2': '', 'zip_code': '', 'city': 'Moscow', 'state_code': None, 'country_code': 'RUS', 'latitude': None, 'longitude': None}, {'description': 'Twigis.com', 'address1': '', 'address2': '', 'zip_code': '', 'city': 'Buenos Aires', 'state_code': None, 'country_code': 'ARG', 'latitude': None, 'longitude': None}]    2\n",
       "[{'description': 'Headquarters', 'address1': '242W 30th Street', 'address2': 'Suite 501', 'zip_code': '10001', 'city': 'New York', 'state_code': 'NY', 'country_code': 'USA', 'latitude': 40.775309, 'longitude': -73.983656}]                                                                                                                                                                                                                                                                                                                                                                                                                                                                                                                                                             2\n",
       "[{'description': '', 'address1': '', 'address2': '', 'zip_code': '', 'city': 'Tel Aviv', 'state_code': None, 'country_code': 'ISR', 'latitude': 32.0554, 'longitude': 34.7595}]                                                                                                                                                                                                                                                                                                                                                                                                                                                                                                                                                                                                            2\n",
       "                                                                                                                                                                                                                                                                                                                                                                                                                                                                                                                                                                                                                                                                                                                                                                                          ..\n",
       "[{'description': 'HQ', 'address1': '300 W. Adams', 'address2': '9th Floor', 'zip_code': '60606', 'city': 'Chicago', 'state_code': 'IL', 'country_code': 'USA', 'latitude': 42.040851, 'longitude': -87.750643}]                                                                                                                                                                                                                                                                                                                                                                                                                                                                                                                                                                            1\n",
       "[{'description': 'Squarespace', 'address1': '459 Broadway', 'address2': '5th Floor', 'zip_code': '10013', 'city': 'New York', 'state_code': 'NY', 'country_code': 'USA', 'latitude': None, 'longitude': None}]                                                                                                                                                                                                                                                                                                                                                                                                                                                                                                                                                                             1\n",
       "[{'description': '', 'address1': 'SoHo', 'address2': '', 'zip_code': '', 'city': 'New York', 'state_code': 'NY', 'country_code': 'USA', 'latitude': 40.723384, 'longitude': -74.001704}, {'description': '', 'address1': '', 'address2': '', 'zip_code': '', 'city': 'Austin', 'state_code': 'TX', 'country_code': 'USA', 'latitude': None, 'longitude': None}]                                                                                                                                                                                                                                                                                                                                                                                                                            1\n",
       "[{'description': 'Garlik UK Office', 'address1': '2, Sheen Road', 'address2': '', 'zip_code': 'TW9 1AE', 'city': 'Richmond', 'state_code': None, 'country_code': 'GBR', 'latitude': 51.462108, 'longitude': -0.295441}, {'description': 'Garlik US Office', 'address1': '445 Park Avenue', 'address2': '', 'zip_code': '10022', 'city': 'New York', 'state_code': 'NY', 'country_code': 'USA', 'latitude': 40.7615818, 'longitude': -73.970624}]                                                                                                                                                                                                                                                                                                                                           1\n",
       "[{'description': 'Headquarters', 'address1': '215 Park Avenue South', 'address2': '20th Floor', 'zip_code': '10003', 'city': 'New York', 'state_code': 'NY', 'country_code': 'USA', 'latitude': 40.726517, 'longitude': -74.032177}]                                                                                                                                                                                                                                                                                                                                                                                                                                                                                                                                                       1\n",
       "Name: offices, Length: 603, dtype: int64"
      ]
     },
     "execution_count": 82,
     "metadata": {},
     "output_type": "execute_result"
    }
   ],
   "source": [
    "datos[\"offices\"].value_counts()"
   ]
  },
  {
   "cell_type": "code",
   "execution_count": null,
   "metadata": {},
   "outputs": [],
   "source": [
    "\n",
    "\n"
   ]
  },
  {
   "cell_type": "code",
   "execution_count": 84,
   "metadata": {},
   "outputs": [],
   "source": [
    "latitude = db.companies.find({},{\"offices.latitude\":1})\n",
    "longitude = db.companies.find({},{\"offices.longitude\":1})\n"
   ]
  },
  {
   "cell_type": "code",
   "execution_count": 87,
   "metadata": {},
   "outputs": [],
   "source": [
    "def geopoint(x):\n",
    "   for ele in x:\n",
    "       longitude = ele[\"longitude\"]\n",
    "       latitude = ele[\"latitude\"]\n",
    "       return{\"type\": \"Point\", \"coordinates\": {\"longitude\":longitude,\"latitude\":latitude}}\n",
    "    \n",
    "datos[\"geo\"] = datos[\"offices\"].apply(geopoint)\n"
   ]
  },
  {
   "cell_type": "code",
   "execution_count": 88,
   "metadata": {},
   "outputs": [],
   "source": [
    "datos.to_json(r'./oficina.json', orient=\"records\")"
   ]
  },
  {
   "cell_type": "code",
   "execution_count": null,
   "metadata": {},
   "outputs": [],
   "source": []
  },
  {
   "cell_type": "code",
   "execution_count": 83,
   "metadata": {},
   "outputs": [
    {
     "ename": "SyntaxError",
     "evalue": "invalid syntax (<ipython-input-83-3fc3dea82ab0>, line 1)",
     "output_type": "error",
     "traceback": [
      "\u001b[0;36m  File \u001b[0;32m\"<ipython-input-83-3fc3dea82ab0>\"\u001b[0;36m, line \u001b[0;32m1\u001b[0m\n\u001b[0;31m    mongoimport --db companies --collection prueba --jsonArray oficinas.json\u001b[0m\n\u001b[0m                             ^\u001b[0m\n\u001b[0;31mSyntaxError\u001b[0m\u001b[0;31m:\u001b[0m invalid syntax\n"
     ]
    }
   ],
   "source": [
    "mongoimport --db companies --collection prueba --jsonArray oficinas.json"
   ]
  },
  {
   "cell_type": "code",
   "execution_count": null,
   "metadata": {},
   "outputs": [],
   "source": []
  },
  {
   "cell_type": "code",
   "execution_count": null,
   "metadata": {},
   "outputs": [],
   "source": []
  }
 ],
 "metadata": {
  "kernelspec": {
   "display_name": "Python 3",
   "language": "python",
   "name": "python3"
  },
  "language_info": {
   "codemirror_mode": {
    "name": "ipython",
    "version": 3
   },
   "file_extension": ".py",
   "mimetype": "text/x-python",
   "name": "python",
   "nbconvert_exporter": "python",
   "pygments_lexer": "ipython3",
   "version": "3.7.4"
  }
 },
 "nbformat": 4,
 "nbformat_minor": 2
}
